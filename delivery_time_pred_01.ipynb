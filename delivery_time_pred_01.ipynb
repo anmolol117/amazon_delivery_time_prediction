{
  "cells": [
    {
      "cell_type": "code",
      "source": [
        "from google.colab import drive\n",
        "drive.mount('/content/drive')"
      ],
      "metadata": {
        "colab": {
          "base_uri": "https://localhost:8080/"
        },
        "id": "i_6FL1Dt0qo8",
        "outputId": "c0390f4a-3d8b-4692-c9bd-be822ecb067d"
      },
      "execution_count": 5,
      "outputs": [
        {
          "output_type": "stream",
          "name": "stdout",
          "text": [
            "Drive already mounted at /content/drive; to attempt to forcibly remount, call drive.mount(\"/content/drive\", force_remount=True).\n"
          ]
        }
      ]
    },
    {
      "cell_type": "code",
      "execution_count": 6,
      "metadata": {
        "colab": {
          "base_uri": "https://localhost:8080/"
        },
        "id": "32xsSw2t0itN",
        "outputId": "0e5075a0-46dc-4569-eb31-7a93e341f5c4"
      },
      "outputs": [
        {
          "output_type": "stream",
          "name": "stdout",
          "text": [
            "   Store_Latitude  Store_Longitude  Drop_Latitude  Drop_Longitude  Order_Date  \\\n",
            "0       22.745049        75.892471      22.765049       75.912471  2022-03-19   \n",
            "1       12.913041        77.683237      13.043041       77.813237  2022-03-25   \n",
            "2       12.914264        77.678400      12.924264       77.688400  2022-03-19   \n",
            "3       11.003669        76.976494      11.053669       77.026494  2022-04-05   \n",
            "4       12.972793        80.249982      13.012793       80.289982  2022-03-26   \n",
            "\n",
            "  Order_Time Pickup_Time     Weather  Traffic      Vehicle            Area  \\\n",
            "0   11:30:00    11:45:00       Sunny    High   motorcycle           Urban    \n",
            "1   19:45:00    19:50:00      Stormy     Jam      scooter   Metropolitian    \n",
            "2   08:30:00    08:45:00  Sandstorms     Low   motorcycle           Urban    \n",
            "3   18:00:00    18:10:00       Sunny  Medium   motorcycle   Metropolitian    \n",
            "4   13:30:00    13:45:00      Cloudy    High      scooter   Metropolitian    \n",
            "\n",
            "   Delivery_Time  \n",
            "0            120  \n",
            "1            165  \n",
            "2            130  \n",
            "3            105  \n",
            "4            150  \n"
          ]
        }
      ],
      "source": [
        "import pandas as pd\n",
        "\n",
        "file_path = \"amazon_delivery.csv\"\n",
        "\n",
        "df = pd.read_csv(file_path)\n",
        "\n",
        "selected_columns = [\n",
        "    'Store_Latitude', 'Store_Longitude', 'Drop_Latitude', 'Drop_Longitude',\n",
        "    'Order_Date', 'Order_Time', 'Pickup_Time', 'Weather', 'Traffic',\n",
        "    'Vehicle', 'Area', 'Delivery_Time'\n",
        "]\n",
        "\n",
        "df_selected = df[selected_columns]\n",
        "\n",
        "print(df_selected.head())\n"
      ]
    },
    {
      "cell_type": "code",
      "execution_count": 7,
      "metadata": {
        "colab": {
          "base_uri": "https://localhost:8080/"
        },
        "id": "IDPVVJWE0itR",
        "outputId": "f12aa6fc-46a8-4fda-9bc4-36d00ace9ce3"
      },
      "outputs": [
        {
          "output_type": "stream",
          "name": "stdout",
          "text": [
            "<class 'pandas.core.frame.DataFrame'>\n",
            "RangeIndex: 43739 entries, 0 to 43738\n",
            "Data columns (total 16 columns):\n",
            " #   Column           Non-Null Count  Dtype  \n",
            "---  ------           --------------  -----  \n",
            " 0   Order_ID         43739 non-null  object \n",
            " 1   Agent_Age        43739 non-null  int64  \n",
            " 2   Agent_Rating     43685 non-null  float64\n",
            " 3   Store_Latitude   43739 non-null  float64\n",
            " 4   Store_Longitude  43739 non-null  float64\n",
            " 5   Drop_Latitude    43739 non-null  float64\n",
            " 6   Drop_Longitude   43739 non-null  float64\n",
            " 7   Order_Date       43739 non-null  object \n",
            " 8   Order_Time       43739 non-null  object \n",
            " 9   Pickup_Time      43739 non-null  object \n",
            " 10  Weather          43648 non-null  object \n",
            " 11  Traffic          43739 non-null  object \n",
            " 12  Vehicle          43739 non-null  object \n",
            " 13  Area             43739 non-null  object \n",
            " 14  Delivery_Time    43739 non-null  int64  \n",
            " 15  Category         43739 non-null  object \n",
            "dtypes: float64(5), int64(2), object(9)\n",
            "memory usage: 5.3+ MB\n"
          ]
        }
      ],
      "source": [
        "df.info()"
      ]
    },
    {
      "cell_type": "code",
      "execution_count": 8,
      "metadata": {
        "colab": {
          "base_uri": "https://localhost:8080/"
        },
        "id": "qiGIxXUB0itR",
        "outputId": "d106a055-10e5-46d8-e3c0-d7e18a953fa5"
      },
      "outputs": [
        {
          "output_type": "execute_result",
          "data": {
            "text/plain": [
              "(43739, 16)"
            ]
          },
          "metadata": {},
          "execution_count": 8
        }
      ],
      "source": [
        "df.shape"
      ]
    },
    {
      "cell_type": "code",
      "execution_count": 9,
      "metadata": {
        "colab": {
          "base_uri": "https://localhost:8080/"
        },
        "id": "Y4hF6cpp0itR",
        "outputId": "c138bb66-8af7-4581-9f2c-72f5b6c679e9"
      },
      "outputs": [
        {
          "output_type": "stream",
          "name": "stderr",
          "text": [
            "/tmp/ipython-input-9-1856458624.py:25: UserWarning: Could not infer format, so each element will be parsed individually, falling back to `dateutil`. To ensure parsing is consistent and as-expected, please specify a format.\n",
            "  df_selected['Order_Time'] = pd.to_datetime(df_selected['Order_Time'])\n",
            "/tmp/ipython-input-9-1856458624.py:26: UserWarning: Could not infer format, so each element will be parsed individually, falling back to `dateutil`. To ensure parsing is consistent and as-expected, please specify a format.\n",
            "  df_selected['Pickup_Time'] = pd.to_datetime(df_selected['Pickup_Time'])\n"
          ]
        }
      ],
      "source": [
        "import pandas as pd\n",
        "from sklearn.model_selection import train_test_split\n",
        "from sklearn.preprocessing import StandardScaler, OneHotEncoder\n",
        "from sklearn.metrics import mean_squared_error\n",
        "import numpy as np\n",
        "import tensorflow as tf\n",
        "from tensorflow.keras.models import Sequential\n",
        "from tensorflow.keras.layers import Dense, Dropout\n",
        "\n",
        "file_path = \"amazon_delivery.csv\"\n",
        "df = pd.read_csv(file_path)\n",
        "\n",
        "selected_columns = [\n",
        "    'Store_Latitude', 'Store_Longitude', 'Drop_Latitude', 'Drop_Longitude',\n",
        "    'Order_Date', 'Order_Time', 'Pickup_Time', 'Weather', 'Traffic',\n",
        "    'Vehicle', 'Area', 'Delivery_Time'\n",
        "]\n",
        "df_selected = df[selected_columns]\n",
        "\n",
        "df_selected = df_selected.dropna()\n",
        "\n",
        "df_selected['Order_Date'] = pd.to_datetime(df_selected['Order_Date'])\n",
        "df_selected['Day_of_Week'] = df_selected['Order_Date'].dt.dayofweek\n",
        "df_selected['Order_Time'] = pd.to_datetime(df_selected['Order_Time'])\n",
        "df_selected['Pickup_Time'] = pd.to_datetime(df_selected['Pickup_Time'])\n",
        "df_selected['Time_To_Pickup'] = (df_selected['Pickup_Time'] - df_selected['Order_Time']).dt.total_seconds() / 60.0\n",
        "\n",
        "df_selected = df_selected.drop(columns=['Order_Date', 'Order_Time', 'Pickup_Time'])\n",
        "\n",
        "df_selected = pd.get_dummies(df_selected, columns=['Weather', 'Traffic', 'Vehicle', 'Area'])\n",
        "\n",
        "X = df_selected.drop(columns=['Delivery_Time'])\n",
        "y = df_selected['Delivery_Time']\n",
        "\n",
        "X_train, X_test, y_train, y_test = train_test_split(X, y, test_size=0.2, random_state=42)\n",
        "\n",
        "scaler = StandardScaler()\n",
        "X_train = scaler.fit_transform(X_train)\n",
        "X_test = scaler.transform(X_test)\n"
      ]
    },
    {
      "cell_type": "code",
      "execution_count": 15,
      "metadata": {
        "colab": {
          "base_uri": "https://localhost:8080/"
        },
        "id": "FDTyMqqa0itS",
        "outputId": "fac52321-e44b-4759-dea2-704dee6aeb59"
      },
      "outputs": [
        {
          "output_type": "stream",
          "name": "stderr",
          "text": [
            "/usr/local/lib/python3.11/dist-packages/keras/src/layers/core/dense.py:87: UserWarning: Do not pass an `input_shape`/`input_dim` argument to a layer. When using Sequential models, prefer using an `Input(shape)` object as the first layer in the model instead.\n",
            "  super().__init__(activity_regularizer=activity_regularizer, **kwargs)\n"
          ]
        }
      ],
      "source": [
        "import tensorflow as tf\n",
        "from tensorflow.keras.models import Sequential\n",
        "from tensorflow.keras.layers import Dense, Dropout, BatchNormalization\n",
        "from tensorflow.keras.regularizers import l2\n",
        "from tensorflow.keras.callbacks import EarlyStopping, ReduceLROnPlateau\n",
        "\n",
        "# Revised DNN Model\n",
        "model = Sequential()\n",
        "\n",
        "# Input layer and first hidden layer\n",
        "model.add(Dense(512, input_dim=X_train.shape[1], activation='relu', kernel_regularizer=l2(0.001)))\n",
        "model.add(BatchNormalization())\n",
        "model.add(Dropout(0.3))\n",
        "\n",
        "# Second hidden layer\n",
        "model.add(Dense(256, activation='relu', kernel_regularizer=l2(0.001)))\n",
        "model.add(BatchNormalization())\n",
        "model.add(Dropout(0.3))\n",
        "\n",
        "# Third hidden layer\n",
        "model.add(Dense(128, activation='relu', kernel_regularizer=l2(0.001)))\n",
        "model.add(BatchNormalization())\n",
        "model.add(Dropout(0.3))\n",
        "\n",
        "# Fourth hidden layer\n",
        "model.add(Dense(64, activation='relu', kernel_regularizer=l2(0.001)))\n",
        "model.add(BatchNormalization())\n",
        "model.add(Dropout(0.3))\n",
        "\n",
        "# Output layer\n",
        "model.add(Dense(1, activation='linear'))  # Linear activation for regression\n"
      ]
    },
    {
      "cell_type": "code",
      "execution_count": null,
      "metadata": {
        "colab": {
          "base_uri": "https://localhost:8080/"
        },
        "id": "2G9guot90itS",
        "outputId": "38b35fd1-cb9e-4523-d5df-a60b536a45f9"
      },
      "outputs": [
        {
          "output_type": "stream",
          "name": "stdout",
          "text": [
            "Epoch 1/100\n",
            "\u001b[1m873/873\u001b[0m \u001b[32m━━━━━━━━━━━━━━━━━━━━\u001b[0m\u001b[37m\u001b[0m \u001b[1m13s\u001b[0m 10ms/step - loss: 16068.0098 - val_loss: 6870.1626 - learning_rate: 0.0010\n",
            "Epoch 2/100\n",
            "\u001b[1m873/873\u001b[0m \u001b[32m━━━━━━━━━━━━━━━━━━━━\u001b[0m\u001b[37m\u001b[0m \u001b[1m10s\u001b[0m 10ms/step - loss: 3241.3306 - val_loss: 2383.4465 - learning_rate: 0.0010\n",
            "Epoch 3/100\n",
            "\u001b[1m873/873\u001b[0m \u001b[32m━━━━━━━━━━━━━━━━━━━━\u001b[0m\u001b[37m\u001b[0m \u001b[1m9s\u001b[0m 8ms/step - loss: 2334.4221 - val_loss: 2452.9814 - learning_rate: 0.0010\n",
            "Epoch 4/100\n",
            "\u001b[1m873/873\u001b[0m \u001b[32m━━━━━━━━━━━━━━━━━━━━\u001b[0m\u001b[37m\u001b[0m \u001b[1m11s\u001b[0m 9ms/step - loss: 2346.6174 - val_loss: 2316.0913 - learning_rate: 0.0010\n",
            "Epoch 5/100\n",
            "\u001b[1m873/873\u001b[0m \u001b[32m━━━━━━━━━━━━━━━━━━━━\u001b[0m\u001b[37m\u001b[0m \u001b[1m11s\u001b[0m 10ms/step - loss: 2326.3027 - val_loss: 2472.9700 - learning_rate: 0.0010\n",
            "Epoch 6/100\n",
            "\u001b[1m873/873\u001b[0m \u001b[32m━━━━━━━━━━━━━━━━━━━━\u001b[0m\u001b[37m\u001b[0m \u001b[1m8s\u001b[0m 9ms/step - loss: 2314.4424 - val_loss: 2200.3142 - learning_rate: 0.0010\n",
            "Epoch 7/100\n",
            "\u001b[1m873/873\u001b[0m \u001b[32m━━━━━━━━━━━━━━━━━━━━\u001b[0m\u001b[37m\u001b[0m \u001b[1m9s\u001b[0m 8ms/step - loss: 2278.7588 - val_loss: 2195.2148 - learning_rate: 0.0010\n",
            "Epoch 8/100\n",
            "\u001b[1m873/873\u001b[0m \u001b[32m━━━━━━━━━━━━━━━━━━━━\u001b[0m\u001b[37m\u001b[0m \u001b[1m12s\u001b[0m 10ms/step - loss: 2309.7249 - val_loss: 2303.0847 - learning_rate: 0.0010\n",
            "Epoch 9/100\n",
            "\u001b[1m873/873\u001b[0m \u001b[32m━━━━━━━━━━━━━━━━━━━━\u001b[0m\u001b[37m\u001b[0m \u001b[1m9s\u001b[0m 10ms/step - loss: 2311.5066 - val_loss: 2284.7568 - learning_rate: 0.0010\n",
            "Epoch 10/100\n",
            "\u001b[1m873/873\u001b[0m \u001b[32m━━━━━━━━━━━━━━━━━━━━\u001b[0m\u001b[37m\u001b[0m \u001b[1m7s\u001b[0m 8ms/step - loss: 2262.0105 - val_loss: 2267.6023 - learning_rate: 0.0010\n",
            "Epoch 11/100\n",
            "\u001b[1m873/873\u001b[0m \u001b[32m━━━━━━━━━━━━━━━━━━━━\u001b[0m\u001b[37m\u001b[0m \u001b[1m12s\u001b[0m 10ms/step - loss: 2259.6204 - val_loss: 2217.5564 - learning_rate: 0.0010\n",
            "Epoch 12/100\n",
            "\u001b[1m873/873\u001b[0m \u001b[32m━━━━━━━━━━━━━━━━━━━━\u001b[0m\u001b[37m\u001b[0m \u001b[1m11s\u001b[0m 11ms/step - loss: 2284.6892 - val_loss: 2091.6792 - learning_rate: 0.0010\n",
            "Epoch 13/100\n",
            "\u001b[1m873/873\u001b[0m \u001b[32m━━━━━━━━━━━━━━━━━━━━\u001b[0m\u001b[37m\u001b[0m \u001b[1m7s\u001b[0m 8ms/step - loss: 2232.4902 - val_loss: 2199.0764 - learning_rate: 0.0010\n",
            "Epoch 14/100\n",
            "\u001b[1m873/873\u001b[0m \u001b[32m━━━━━━━━━━━━━━━━━━━━\u001b[0m\u001b[37m\u001b[0m \u001b[1m10s\u001b[0m 8ms/step - loss: 2252.2305 - val_loss: 2159.6189 - learning_rate: 0.0010\n",
            "Epoch 15/100\n",
            "\u001b[1m873/873\u001b[0m \u001b[32m━━━━━━━━━━━━━━━━━━━━\u001b[0m\u001b[37m\u001b[0m \u001b[1m9s\u001b[0m 10ms/step - loss: 2238.4482 - val_loss: 2360.7444 - learning_rate: 0.0010\n",
            "Epoch 16/100\n",
            "\u001b[1m873/873\u001b[0m \u001b[32m━━━━━━━━━━━━━━━━━━━━\u001b[0m\u001b[37m\u001b[0m \u001b[1m7s\u001b[0m 8ms/step - loss: 2248.9216 - val_loss: 2176.7390 - learning_rate: 0.0010\n",
            "Epoch 17/100\n",
            "\u001b[1m873/873\u001b[0m \u001b[32m━━━━━━━━━━━━━━━━━━━━\u001b[0m\u001b[37m\u001b[0m \u001b[1m9s\u001b[0m 10ms/step - loss: 2252.3806 - val_loss: 2174.4714 - learning_rate: 0.0010\n",
            "Epoch 18/100\n",
            "\u001b[1m873/873\u001b[0m \u001b[32m━━━━━━━━━━━━━━━━━━━━\u001b[0m\u001b[37m\u001b[0m \u001b[1m8s\u001b[0m 9ms/step - loss: 2237.8501 - val_loss: 2122.2522 - learning_rate: 5.0000e-04\n",
            "Epoch 19/100\n",
            "\u001b[1m873/873\u001b[0m \u001b[32m━━━━━━━━━━━━━━━━━━━━\u001b[0m\u001b[37m\u001b[0m \u001b[1m9s\u001b[0m 8ms/step - loss: 2227.3840 - val_loss: 2118.3501 - learning_rate: 5.0000e-04\n",
            "Epoch 20/100\n",
            "\u001b[1m873/873\u001b[0m \u001b[32m━━━━━━━━━━━━━━━━━━━━\u001b[0m\u001b[37m\u001b[0m \u001b[1m11s\u001b[0m 10ms/step - loss: 2204.7976 - val_loss: 2109.9993 - learning_rate: 5.0000e-04\n",
            "Epoch 21/100\n",
            "\u001b[1m873/873\u001b[0m \u001b[32m━━━━━━━━━━━━━━━━━━━━\u001b[0m\u001b[37m\u001b[0m \u001b[1m9s\u001b[0m 10ms/step - loss: 2277.3347 - val_loss: 2107.8699 - learning_rate: 5.0000e-04\n",
            "Epoch 22/100\n",
            "\u001b[1m 83/873\u001b[0m \u001b[32m━\u001b[0m\u001b[37m━━━━━━━━━━━━━━━━━━━\u001b[0m \u001b[1m6s\u001b[0m 8ms/step - loss: 2297.1594"
          ]
        }
      ],
      "source": [
        "model.compile(optimizer='adam', loss='mean_squared_error')\n",
        "\n",
        "early_stopping = EarlyStopping(monitor='val_loss', patience=10, restore_best_weights=True)\n",
        "reduce_lr = ReduceLROnPlateau(monitor='val_loss', factor=0.5, patience=5, min_lr=1e-6)\n",
        "\n",
        "history = model.fit(X_train, y_train, epochs=100, batch_size=32, validation_split=0.2,\n",
        "                    callbacks=[early_stopping, reduce_lr])\n"
      ]
    },
    {
      "cell_type": "code",
      "execution_count": 12,
      "metadata": {
        "colab": {
          "base_uri": "https://localhost:8080/"
        },
        "id": "lLVSr3xT0itS",
        "outputId": "e772bd0e-d503-42f2-94ad-3d0961b9f510"
      },
      "outputs": [
        {
          "output_type": "stream",
          "name": "stdout",
          "text": [
            "\u001b[1m273/273\u001b[0m \u001b[32m━━━━━━━━━━━━━━━━━━━━\u001b[0m\u001b[37m\u001b[0m \u001b[1m1s\u001b[0m 3ms/step\n",
            "Root Mean Squared Error (RMSE): 44.8871074696531\n"
          ]
        }
      ],
      "source": [
        "y_pred = model.predict(X_test)\n",
        "rmse = np.sqrt(mean_squared_error(y_test, y_pred))\n",
        "\n",
        "print(f\"Root Mean Squared Error (RMSE): {rmse}\")\n"
      ]
    },
    {
      "cell_type": "code",
      "execution_count": 13,
      "metadata": {
        "colab": {
          "base_uri": "https://localhost:8080/",
          "height": 472
        },
        "id": "PuoW3DTg0itT",
        "outputId": "64d016f3-9056-4fa7-9579-3efa33ad75fc"
      },
      "outputs": [
        {
          "output_type": "display_data",
          "data": {
            "text/plain": [
              "<Figure size 640x480 with 1 Axes>"
            ],
            "image/png": "[encoded data removed]"
          },
          "metadata": {}
        }
      ],
      "source": [
        "import matplotlib.pyplot as plt\n",
        "\n",
        "# Plot training & validation loss values\n",
        "plt.plot(history.history['loss'])\n",
        "plt.plot(history.history['val_loss'])\n",
        "plt.title('Model Loss')\n",
        "plt.ylabel('Loss')\n",
        "plt.xlabel('Epoch')\n",
        "plt.legend(['Train', 'Validation'], loc='upper left')\n",
        "plt.show()\n"
      ]
    },
    {
      "cell_type": "code",
      "execution_count": 14,
      "metadata": {
        "colab": {
          "base_uri": "https://localhost:8080/"
        },
        "id": "42qvecic0itT",
        "outputId": "b1a239b2-b634-4f0d-b0ec-9923fb0d4b6b"
      },
      "outputs": [
        {
          "output_type": "stream",
          "name": "stdout",
          "text": [
            "Root Mean Squared Error (RMSE): 43.83686967129525\n"
          ]
        }
      ],
      "source": [
        "import xgboost as xgb\n",
        "from sklearn.metrics import mean_squared_error\n",
        "from sklearn.model_selection import train_test_split\n",
        "\n",
        "# Assuming X and y are already defined and preprocessed\n",
        "\n",
        "X_train, X_test, y_train, y_test = train_test_split(X, y, test_size=0.2, random_state=42)\n",
        "\n",
        "# Train an XGBoost model\n",
        "xg_reg = xgb.XGBRegressor(objective ='reg:squarederror', colsample_bytree = 0.3,\n",
        "                          learning_rate = 0.1, max_depth = 5, alpha = 10, n_estimators = 100)\n",
        "\n",
        "xg_reg.fit(X_train, y_train)\n",
        "\n",
        "# Predict and evaluate\n",
        "y_pred = xg_reg.predict(X_test)\n",
        "rmse = np.sqrt(mean_squared_error(y_test, y_pred))\n",
        "print(f\"Root Mean Squared Error (RMSE): {rmse}\")\n"
      ]
    }
  ],
  "metadata": {
    "kernelspec": {
      "display_name": "Python 3",
      "language": "python",
      "name": "python3"
    },
    "language_info": {
      "codemirror_mode": {
        "name": "ipython",
        "version": 3
      },
      "file_extension": ".py",
      "mimetype": "text/x-python",
      "name": "python",
      "nbconvert_exporter": "python",
      "pygments_lexer": "ipython3",
      "version": "3.11.5"
    },
    "colab": {
      "provenance": []
    }
  },
  "nbformat": 4,
  "nbformat_minor": 0
}